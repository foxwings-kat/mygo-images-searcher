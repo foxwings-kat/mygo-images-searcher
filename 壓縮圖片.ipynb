{
  "nbformat": 4,
  "nbformat_minor": 0,
  "metadata": {
    "colab": {
      "provenance": []
    },
    "kernelspec": {
      "name": "python3",
      "display_name": "Python 3"
    },
    "language_info": {
      "name": "python"
    }
  },
  "cells": [
    {
      "cell_type": "code",
      "source": [
        "from PIL import Image\n",
        "import os\n",
        "from google.colab import drive\n",
        "\n",
        "# 掛載 Google Drive\n",
        "drive.mount('/content/drive')"
      ],
      "metadata": {
        "id": "Pnpb771vBH_y"
      },
      "execution_count": null,
      "outputs": []
    },
    {
      "cell_type": "code",
      "execution_count": null,
      "metadata": {
        "id": "P34QewI4kpYM"
      },
      "outputs": [],
      "source": [
        "def compress_image(input_path, output_path, quality):\n",
        "    \"\"\"\n",
        "    壓縮圖片並保存\n",
        "    :param input_path: 輸入圖片路徑\n",
        "    :param output_path: 輸出圖片路徑\n",
        "    :param quality: 壓縮質量 (0-100)\n",
        "    \"\"\"\n",
        "    try:\n",
        "        # 打開圖片\n",
        "        img = Image.open(input_path)\n",
        "\n",
        "        # 保存圖片，並設置壓縮質量\n",
        "        img.save(output_path, \"JPEG\", quality=quality)\n",
        "\n",
        "        print(f\"壓縮成功: {input_path} -> {output_path}\")\n",
        "    except Exception as e:\n",
        "        print(f\"壓縮失敗: {input_path} - {e}\")\n",
        "\n",
        "def batch_compress_images(input_folder, output_folder, quality):\n",
        "    \"\"\"\n",
        "    批量壓縮資料夾中的圖片\n",
        "    :param input_folder: 輸入資料夾路徑\n",
        "    :param output_folder: 輸出資料夾路徑\n",
        "    :param quality: 壓縮質量 (0-100)\n",
        "    \"\"\"\n",
        "    # 確保輸出資料夾存在\n",
        "    if not os.path.exists(output_folder):\n",
        "        os.makedirs(output_folder)\n",
        "\n",
        "    # 遍歷輸入資料夾中的所有文件\n",
        "    for filename in os.listdir(input_folder):\n",
        "        if filename.lower().endswith(('.jpg', '.jpeg')):\n",
        "            input_path = os.path.join(input_folder, filename)\n",
        "            output_path = os.path.join(output_folder, filename)\n",
        "\n",
        "            # 壓縮圖片\n",
        "            compress_image(input_path, output_path, quality)\n",
        "\n",
        "def process_all_episodes(base_input_folder, base_output_folder, quality):\n",
        "    \"\"\"\n",
        "    處理所有 episode 資料夾\n",
        "    :param base_input_folder: 輸入資料夾的根目錄（例如：mygo截圖）\n",
        "    :param base_output_folder: 輸出資料夾的根目錄（例如：mygo截圖compress）\n",
        "    :param quality: 壓縮質量 (0-100)\n",
        "    \"\"\"\n",
        "    # 遍歷 base_input_folder 中的所有 episode 資料夾\n",
        "    for folder_name in os.listdir(base_input_folder):\n",
        "        if folder_name.startswith(\"episode\") and os.path.isdir(os.path.join(base_input_folder, folder_name)):\n",
        "            # 設定輸入和輸出路徑\n",
        "            input_folder = os.path.join(base_input_folder, folder_name)\n",
        "            output_folder = os.path.join(base_output_folder, folder_name)\n",
        "\n",
        "            print(f\"正在處理資料夾: {input_folder}\")\n",
        "\n",
        "            # 批量壓縮圖片\n",
        "            batch_compress_images(input_folder, output_folder, quality)\n",
        "\n",
        "if __name__ == \"__main__\":\n",
        "    # 輸入資料夾的根目錄\n",
        "    base_input_folder = \"/content/drive/MyDrive/SAS/ave mujica截圖\"\n",
        "\n",
        "    # 輸出資料夾的根目錄\n",
        "    base_output_folder = \"/content/drive/MyDrive/SAS/aaa\"\n",
        "\n",
        "    # 壓縮質量 (0-100)，由使用者輸入\n",
        "    try:\n",
        "        quality = int(input(\"請輸入壓縮質量 (0-100，建議 85): \"))\n",
        "        if quality < 0 or quality > 100:\n",
        "            raise ValueError(\"壓縮質量必須在 0 到 100 之間\")\n",
        "    except ValueError as e:\n",
        "        print(f\"輸入錯誤: {e}\")\n",
        "        exit(1)\n",
        "\n",
        "    # 處理所有 episode 資料夾\n",
        "    process_all_episodes(base_input_folder, base_output_folder, quality)"
      ]
    }
  ]
}