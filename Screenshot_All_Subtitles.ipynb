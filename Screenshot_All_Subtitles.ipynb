{
  "nbformat": 4,
  "nbformat_minor": 0,
  "metadata": {
    "colab": {
      "provenance": []
    },
    "kernelspec": {
      "name": "python3",
      "display_name": "Python 3"
    },
    "language_info": {
      "name": "python"
    }
  },
  "cells": [
    {
      "cell_type": "code",
      "execution_count": null,
      "metadata": {
        "id": "gQXEoUGzk5pq"
      },
      "outputs": [],
      "source": [
        "!pip install pysrt opencv-python moviepy\n",
        "import os\n",
        "import re\n",
        "import cv2\n",
        "import json\n",
        "import pysrt\n",
        "import moviepy.editor as mp\n",
        "from google.colab import drive\n",
        "from PIL import Image\n",
        "drive.mount('/content/drive')"
      ]
    },
    {
      "cell_type": "code",
      "source": [
        "def get_episode_number(filename): # 提取數字部分作為集數\n",
        "    match = re.search(r'\\d+', filename)\n",
        "    return match.group() if match else None\n",
        "\n",
        "def sanitize_filename(text):  # 替換不允許的字元為全形或底線\n",
        "    replace_map = {\"/\": \"／\", \"\\\\\": \"＼\", \"?\": \"？\", \"*\": \"＊\", \"\\\"\": \"＂\", \"<\": \"＜\", \">\": \"＞\", \"|\": \"｜\", \":\": \"：\"}\n",
        "    for key, value in replace_map.items():\n",
        "        text = text.replace(key, value)\n",
        "    return text\n",
        "\n",
        "def read_srt(file_path):\n",
        "    subs = pysrt.open(file_path)\n",
        "    subtitles = []\n",
        "    for index, sub in enumerate(subs, start=0):\n",
        "        start_time = sub.start.to_time()\n",
        "        end_time = sub.end.to_time()\n",
        "        text = sub.text.replace('\\n', ' ')\n",
        "        subtitles.append({\n",
        "            'index': index,\n",
        "            'start_time': start_time,\n",
        "            'end_time': end_time,\n",
        "            'text': text\n",
        "        })\n",
        "    return subtitles\n",
        "\n",
        "def load_video(video_path):\n",
        "    try:\n",
        "        return mp.VideoFileClip(video_path)\n",
        "    except Exception as e:\n",
        "        print(f\"無法載入影片: {e}\")\n",
        "        return None\n",
        "\n",
        "def capture_frames(video, subtitles, output_folder, episode, filename_prefix, image_format):\n",
        "    episode_folder = os.path.join(output_folder, f\"episode{int(episode):02d}\")\n",
        "    os.makedirs(episode_folder, exist_ok=True)\n",
        "    for sub in subtitles:\n",
        "        # 計算開始時間、結束時間與中間時間，包含毫秒（微秒）\n",
        "        start_seconds = (sub['start_time'].hour * 3600 + sub['start_time'].minute * 60 + sub['start_time'].second + sub['start_time'].microsecond / 1e6)\n",
        "        end_seconds = (sub['end_time'].hour * 3600 + sub['end_time'].minute * 60 + sub['end_time'].second + sub['end_time'].microsecond / 1e6)\n",
        "        mid_time = (start_seconds + end_seconds) / 2\n",
        "\n",
        "        # 擷取中間時間的畫面\n",
        "        mid_frame = video.get_frame(mid_time)\n",
        "\n",
        "        # 提取台詞文字與索引來作為檔案名稱的一部分，處理不允許的字元\n",
        "        subtitle_text = sanitize_filename(sub['text'].replace(\" \", \"\"))\n",
        "        subtitle_index = sub['index']\n",
        "\n",
        "        # 使用台詞文字與索引來生成檔案名稱\n",
        "        mid_frame_filename = f\"{filename_prefix}{int(episode):02d}_{subtitle_index:03d}_{subtitle_text}.{image_format}\"\n",
        "        mid_frame_path = os.path.join(episode_folder, mid_frame_filename)\n",
        "        Image.fromarray(mid_frame).save(mid_frame_path)\n",
        "        #cv2.imwrite(mid_frame_path, cv2.cvtColor(mid_frame, cv2.COLOR_RGB2BGR))\n",
        "        print(f\"已儲存: {mid_frame_path}\")\n",
        "\n",
        "def process_all_episodes(video_folder, subtitle_folder, output_base, filename_prefix, image_format):\n",
        "    video_files = {get_episode_number(f): os.path.join(video_folder, f) for f in os.listdir(video_folder) if f.endswith(\".mp4\")}\n",
        "    subtitle_files = {get_episode_number(f): os.path.join(subtitle_folder, f) for f in os.listdir(subtitle_folder) if f.endswith(\".srt\")}\n",
        "\n",
        "    for episode in sorted(video_files.keys() & subtitle_files.keys()):\n",
        "        video_path = video_files[episode]\n",
        "        subtitle_path = subtitle_files[episode]\n",
        "\n",
        "        print(f\"處理第 {episode} 集...\")\n",
        "        video = load_video(video_path)\n",
        "        if video:\n",
        "            subtitles = read_srt(subtitle_path)\n",
        "            capture_frames(video, subtitles, output_base, episode, filename_prefix, image_format)\n"
      ],
      "metadata": {
        "id": "tm8k5OWnob7e"
      },
      "execution_count": 16,
      "outputs": []
    },
    {
      "cell_type": "code",
      "source": [
        "test_video_file = \"/content/drive/MyDrive/SAS/mygo_video/[ANi] BanG Dream! It's MyGO!!!!! - 02 [1080P][Baha][WEB-DL][AAC AVC][CHT].mp4\"\n",
        "test_srt_file = \"/content/drive/MyDrive/SAS/mygo_subtitle/BanG Dream! It_s MyGO!!!!! - 02.srt\"\n",
        "\n",
        "test_subtitles = read_srt(test_srt_file)\n",
        "for sub in test_subtitles[:10]:\n",
        "    print(sub)\n",
        "\n",
        "test_video = load_video(test_video_file)\n",
        "if test_video:\n",
        "    print(\"影片時長:\", test_video.duration, \"秒\")"
      ],
      "metadata": {
        "id": "ogSrzacPqOhP"
      },
      "execution_count": null,
      "outputs": []
    },
    {
      "cell_type": "markdown",
      "source": [
        "擷取單集"
      ],
      "metadata": {
        "id": "o4qlyMQ0o3dM"
      }
    },
    {
      "cell_type": "code",
      "source": [
        "video_path = \"/content/drive/MyDrive/SAS/ave_mujica_video/[ANi] BanG Dream! Ave Mujica - 07 [1080P][Baha][WEB-DL][AAC AVC][CHT].mp4\"\n",
        "subtitle_path = \"/content/drive/MyDrive/SAS/ave_mujica_subtitle/BanG Dream! Ave Mujica 07.srt\"\n",
        "filename_prefix = \"ave-mujica_ep\" #mygo_ep\n",
        "episode = \"07\"\n",
        "output_base = \"/content/drive/MyDrive/SAS/ave mujica screenshot\"\n",
        "image_format = \"jpg\"\n",
        "\n",
        "video = load_video(video_path)\n",
        "if video:\n",
        "  subtitles = read_srt(subtitle_path)\n",
        "  capture_frames(video, subtitles, output_base, episode, filename_prefix, image_format)"
      ],
      "metadata": {
        "id": "NZCxd-wDoy-t"
      },
      "execution_count": null,
      "outputs": []
    },
    {
      "cell_type": "code",
      "source": [
        "video_folder = \"/content/drive/MyDrive/SAS/ave_mujica_video\"\n",
        "subtitle_folder = \"/content/drive/MyDrive/SAS/ave_mujica_subtitle\"\n",
        "output_base = \"/content/drive/MyDrive/SAS/ave_mujica_screenshot\"\n",
        "filename_prefix = \"ave_mujica_ep\" #ave-mujica_ep\n",
        "image_format = \"jpg\"\n",
        "\n",
        "def check_folder_exists(folder_path):\n",
        "    if os.path.exists(folder_path):\n",
        "        print(f\"Folder exists: {folder_path}\")\n",
        "    else:\n",
        "        print(f\"Folder does not exist: {folder_path}\")\n",
        "\n",
        "check_folder_exists(video_folder)\n",
        "check_folder_exists(subtitle_folder)\n",
        "check_folder_exists(output_base)"
      ],
      "metadata": {
        "id": "pGer6l4Msn2P"
      },
      "execution_count": null,
      "outputs": []
    },
    {
      "cell_type": "code",
      "source": [
        "process_all_episodes(video_folder, subtitle_folder, output_base, filename_prefix, image_format)"
      ],
      "metadata": {
        "id": "mMe2y1zgsjIq"
      },
      "execution_count": null,
      "outputs": []
    },
    {
      "cell_type": "markdown",
      "source": [
        "生成data.json"
      ],
      "metadata": {
        "id": "8qDycc44Td6O"
      }
    },
    {
      "cell_type": "code",
      "source": [
        "# 設定圖片資料夾的路徑\n",
        "image_dir = \"/content/drive/MyDrive/SAS/ave_mujica_screenshot\"\n",
        "output_file = \"/content/drive/MyDrive/SAS/ave_mujica_screenshot/data.json\"\n",
        "\n",
        "# 確保 assets 資料夾存在\n",
        "os.makedirs(os.path.dirname(output_file), exist_ok=True)\n",
        "\n",
        "# 存放圖片資訊的列表\n",
        "image_data = []\n",
        "\n",
        "# 遍歷 images 資料夾內的所有子資料夾與檔案\n",
        "for root, _, files in os.walk(image_dir):\n",
        "    for file in files:\n",
        "        if file.lower().endswith((\".jpg\", \".jpeg\", \".png\", \".webp\", \".gif\")):\n",
        "            # 取得相對路徑（例如 \"images/episode02/episode02_001_你邀燈一起組樂團?.jpg\"）\n",
        "            relative_path = os.path.relpath(os.path.join(root, file), image_dir)\n",
        "            image_data.append(relative_path.replace(\"\\\\\", \"/\"))  # 確保相容性\n",
        "\n",
        "\n",
        "image_data.sort()\n",
        "# 將結果存成 JSON 檔案\n",
        "with open(output_file, \"w\", encoding=\"utf-8\") as f:\n",
        "    json.dump(image_data, f, ensure_ascii=False, indent=4)\n",
        "\n",
        "print(f\"已生成 {output_file}\")"
      ],
      "metadata": {
        "id": "iezCNiWAnZ0U"
      },
      "execution_count": null,
      "outputs": []
    },
    {
      "cell_type": "markdown",
      "source": [
        "幀截圖"
      ],
      "metadata": {
        "id": "mJ61KhdtGSML"
      }
    },
    {
      "cell_type": "code",
      "source": [
        "import os\n",
        "from PIL import Image\n",
        "\n",
        "def capture_frame_at_frame_number(video_path, output_folder, image_format, n_frame):\n",
        "    os.makedirs(output_folder, exist_ok=True)\n",
        "    video = load_video(video_path)\n",
        "\n",
        "    try:\n",
        "        n_frame = int(n_frame)\n",
        "        # 計算對應秒數\n",
        "        time_in_seconds = float(n_frame) / 23.98\n",
        "\n",
        "        for offset in range(-15, 16):  # 包含 -15 到 +15\n",
        "            target_frame = n_frame + offset\n",
        "            target_time = float(target_frame) / 23.98\n",
        "\n",
        "            frame = video.get_frame(target_time)\n",
        "\n",
        "            frame_filename = f\"{int(target_frame):04d}.{image_format}\"\n",
        "            frame_path = os.path.join(output_folder, frame_filename)\n",
        "\n",
        "            Image.fromarray(frame).save(frame_path)\n",
        "            #print(f\"已儲存: {frame_path}\")\n",
        "    except ValueError:\n",
        "        print(\"請輸入有效的數字幀數。\")\n",
        "\n",
        "\n",
        "def clear_jpg_files(folder_path):\n",
        "    # 確保資料夾存在\n",
        "    if os.path.exists(folder_path):\n",
        "        # 遍歷資料夾中的所有檔案\n",
        "        for filename in os.listdir(folder_path):\n",
        "            file_path = os.path.join(folder_path, filename)\n",
        "            # 檢查檔案是否是 .jpg 格式\n",
        "            if os.path.isfile(file_path) and filename.lower().endswith('.jpg'):\n",
        "                try:\n",
        "                    os.remove(file_path)  # 刪除檔案\n",
        "                    #print(f\"已刪除檔案: {file_path}\")\n",
        "                except Exception as e:\n",
        "                    print(f\"無法刪除 {file_path}: {e}\")\n",
        "    else:\n",
        "        print(f\"資料夾 {folder_path} 不存在。\")"
      ],
      "metadata": {
        "id": "fSmBqrJ_TdOc"
      },
      "execution_count": 21,
      "outputs": []
    },
    {
      "cell_type": "code",
      "source": [
        "video_path = \"/content/drive/MyDrive/SAS/ave_mujica_video/[ANi] BanG Dream! Ave Mujica - 07 [1080P][Baha][WEB-DL][AAC AVC][CHT].mp4\"\n",
        "output_path = \"/content/drive/MyDrive/SAS/screenshot\"\n",
        "image_format = \"jpg\"\n",
        "\n",
        "while True:\n",
        "    try:\n",
        "        n_frame = int(input(\"請輸入幀數 (輸入 -1 結束): \"))\n",
        "        if n_frame == -1:\n",
        "            print(\"結束程序\")\n",
        "            break\n",
        "\n",
        "        #clear_jpg_files(output_path)\n",
        "        capture_frame_at_frame_number(video_path, output_path, image_format, n_frame)\n",
        "\n",
        "    except ValueError:\n",
        "        print(\"請輸入有效的數字！\")"
      ],
      "metadata": {
        "id": "6dPjFzDETlGx"
      },
      "execution_count": null,
      "outputs": []
    },
    {
      "cell_type": "markdown",
      "source": [
        "修改檔名"
      ],
      "metadata": {
        "id": "5glHHslO6rKV"
      }
    },
    {
      "cell_type": "code",
      "source": [
        "import os\n",
        "drive.mount('/content/drive')\n",
        "\n",
        "def batch_rename(target_path):\n",
        "    # 检查目标路径是否存在\n",
        "    if not os.path.exists(target_path):\n",
        "        print(f\"错误：路径 {target_path} 不存在\")\n",
        "        return\n",
        "\n",
        "    files = os.listdir(target_path)\n",
        "\n",
        "    for filename in files:\n",
        "        if ' 的副本' in filename:\n",
        "            new_name = filename.replace(' 的副本', '')\n",
        "            src = os.path.join(target_path, filename)\n",
        "            dst = os.path.join(target_path, new_name)\n",
        "\n",
        "            if os.path.exists(dst):\n",
        "                print(f\"警告：{dst} 已存在，跳過修改\")\n",
        "                continue\n",
        "\n",
        "            os.rename(src, dst)\n",
        "            print(f\"已修改：{src} -> {dst}\")\n",
        "\n",
        "if __name__ == '__main__':\n",
        "    target_dir = '/content/drive/MyDrive/SAS/ave_mujica_video'  # 指定目标目录\n",
        "\n",
        "    print(\"=== 批量修改檔名工具 ===\")\n",
        "    print(f\"目標目錄：{target_dir}\\n\")\n",
        "\n",
        "    preview = [f for f in os.listdir(target_dir) if ' 的副本' in f]\n",
        "    print(\"將修改以下檔案：\")\n",
        "    for f in preview:\n",
        "        print(f\"• {f}\")\n",
        "\n",
        "    confirm = input(\"\\n確定要執行修改嗎？(y/n): \").lower()\n",
        "    if confirm == 'y':\n",
        "        batch_rename(target_dir)\n",
        "        print(\"\\n修改完成！\")\n",
        "    else:\n",
        "        print(\"\\n已取消操作\")"
      ],
      "metadata": {
        "id": "xHZ0YSZU7cMD"
      },
      "execution_count": null,
      "outputs": []
    }
  ]
}